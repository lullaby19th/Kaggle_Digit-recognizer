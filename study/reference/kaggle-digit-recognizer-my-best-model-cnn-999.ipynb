{
 "cells": [
  {
   "cell_type": "markdown",
   "metadata": {
    "_cell_guid": "eb88b372-a6e5-40c8-a1c6-c03799165490",
    "_uuid": "e9aff3cf1bb8daa73bec67b970d12195677679f3"
   },
   "source": [
    "# 0. Introduction\n",
    "\n",
    "This is a 5 layers Sequential Convolutional Neural Network for digits recognition trained on MNIST dataset. I choosed to build it with keras API (Tensorflow backend) which is very intuitive. Firstly, I will prepare the data (handwritten digits images) then i will focus on the CNN modeling and evaluation.\n",
    "\n",
    "I achieved 99.671% of accuracy with this CNN trained in 2h30 on a single CPU (i5 2500k). For those who have a >= 3.0 GPU capabilites (from GTX 650 - to recent GPUs), you can use tensorflow-gpu with keras. Computation will be much much faster !!!\n",
    "\n",
    "**For computational reasons, i set the number of steps (epochs) to 2, if you want to achieve 99+% of accuracy set it to 30.**\n",
    "\n",
    "This Notebook follows three main parts:\n",
    "\n",
    "* The data preparation\n",
    "* The CNN modeling and evaluation\n",
    "* The results prediction and submission\n",
    "\n",
    "\n",
    "\n",
    "\n",
    "<img src=\"http://img1.imagilive.com/0717/mnist-sample.png\" ></img>"
   ]
  },
  {
   "cell_type": "markdown",
   "metadata": {},
   "source": [
    "## 1. Import Modules"
   ]
  },
  {
   "cell_type": "code",
   "execution_count": 1,
   "metadata": {
    "_cell_guid": "b1076dfc-b9ad-4769-8c92-a6c4dae69d19",
    "_uuid": "8f2839f25d086af736a60e9eeb907d3b93b6e0e5"
   },
   "outputs": [
    {
     "name": "stderr",
     "output_type": "stream",
     "text": [
      "Using TensorFlow backend.\n"
     ]
    }
   ],
   "source": [
    "# Import the necessary libs\n",
    "import pandas as pd\n",
    "import numpy as np\n",
    "import matplotlib.pyplot as plt\n",
    "import matplotlib.image as mpimg\n",
    "import seaborn as sns\n",
    "%matplotlib inline\n",
    "\n",
    "np.random.seed(2)\n",
    "\n",
    "from sklearn.model_selection import train_test_split\n",
    "from sklearn.metrics import confusion_matrix\n",
    "import itertools\n",
    "\n",
    "from keras.utils.np_utils import to_categorical # convert to one-hot-encoding\n",
    "from keras.models import Sequential\n",
    "from keras.layers import Dense, Dropout, Flatten, Conv2D, MaxPool2D, BatchNormalization\n",
    "from keras.optimizers import RMSprop\n",
    "from keras.preprocessing.image import ImageDataGenerator\n",
    "from keras.callbacks import ReduceLROnPlateau\n",
    "from keras.datasets import mnist\n",
    "\n",
    "sns.set(style='white', context='notebook', palette='deep')"
   ]
  },
  {
   "cell_type": "markdown",
   "metadata": {},
   "source": [
    "# 2. Data preparation"
   ]
  },
  {
   "cell_type": "markdown",
   "metadata": {},
   "source": [
    "## 2.1 Download Data"
   ]
  },
  {
   "cell_type": "code",
   "execution_count": 2,
   "metadata": {
    "_cell_guid": "79c7e3d0-c299-4dcb-8224-4455121ee9b0",
    "_uuid": "d629ff2d2480ee46fbb7e2d37f6b5fab8052498a"
   },
   "outputs": [],
   "source": [
    "# Download Data\n",
    "train = pd.read_csv(\"../input/train.csv\")\n",
    "test = pd.read_csv(\"../input/test.csv\")\n",
    "\n",
    "Y_train = train[\"label\"]\n",
    "X_train = train.drop(labels = [\"label\"], axis = 1) "
   ]
  },
  {
   "cell_type": "markdown",
   "metadata": {},
   "source": [
    "## 2.2 Load more Data sets"
   ]
  },
  {
   "cell_type": "code",
   "execution_count": 3,
   "metadata": {
    "_uuid": "5a4b2dcee2d169ce3fc06816c81da65452240799"
   },
   "outputs": [],
   "source": [
    "# Load more data sets, if there is no such data, validation accuracy = 0.9964\n",
    "# With this batch of data, the validation accuracy can reach 0.9985\n",
    "\n",
    "(x_train1, y_train1), (x_test1, y_test1) = mnist.load_data()\n",
    "\n",
    "train1 = np.concatenate([x_train1, x_test1], axis=0)\n",
    "y_train1 = np.concatenate([y_train1, y_test1], axis=0)\n",
    "\n",
    "Y_train1 = y_train1\n",
    "X_train1 = train1.reshape(-1, 28*28)"
   ]
  },
  {
   "cell_type": "code",
   "execution_count": 4,
   "metadata": {
    "_uuid": "22c0b3a1fbc8246a25fc82698fee940f750286ca"
   },
   "outputs": [
    {
     "data": {
      "image/png": "[encoded data removed]",
      "text/plain": [
       "<Figure size 432x288 with 1 Axes>"
      ]
     },
     "metadata": {},
     "output_type": "display_data"
    }
   ],
   "source": [
    "# Print data histogram\n",
    "g = sns.countplot(Y_train)"
   ]
  },
  {
   "cell_type": "markdown",
   "metadata": {},
   "source": [
    "## 2.3 Normalization (정규화)"
   ]
  },
  {
   "cell_type": "code",
   "execution_count": 5,
   "metadata": {
    "_uuid": "15ba2b09f4e13d802d0251e22a2f2926f91c051f"
   },
   "outputs": [],
   "source": [
    "# Normalize data to make CNN faster\n",
    "X_train = X_train / 255.0\n",
    "test = test / 255.0\n",
    "\n",
    "X_train1 = X_train1 / 255.0"
   ]
  },
  {
   "cell_type": "markdown",
   "metadata": {
    "_cell_guid": "7413df94-bcb9-4f75-b174-c127d4445766",
    "_uuid": "a66741bf1ac597094f3a3166877008feef27c519"
   },
   "source": [
    "## 2.4 Reshape \n",
    "### CNN을 하기 위한 4차원 reshape"
   ]
  },
  {
   "cell_type": "code",
   "execution_count": 6,
   "metadata": {
    "_uuid": "1fbda439ba2cda5750a39d8a0052d7fa36f75712"
   },
   "outputs": [],
   "source": [
    "# Reshape Picture is 3D array (height = 28px, width = 28px , canal = 1)\n",
    "X_train = np.concatenate((X_train.values, X_train1))\n",
    "Y_train = np.concatenate((Y_train, Y_train1))"
   ]
  },
  {
   "cell_type": "code",
   "execution_count": 7,
   "metadata": {
    "_uuid": "0806198527101b7e035b19e23d080bb06b576d17"
   },
   "outputs": [],
   "source": [
    "X_train = X_train.reshape(-1,28,28,1)\n",
    "test = test.values.reshape(-1,28,28,1)"
   ]
  },
  {
   "cell_type": "markdown",
   "metadata": {
    "_cell_guid": "bdb422e2-bdec-444f-97a5-283a1e54bf2c",
    "_uuid": "39b7a31e843bac6b705461bcce89da216b91799e"
   },
   "source": [
    "## 2.5 Label encoding \n",
    "### 정답 Labeling을 위한 one hot encoding"
   ]
  },
  {
   "cell_type": "code",
   "execution_count": 8,
   "metadata": {
    "_uuid": "bcfa0e540a8168ed6aa45102eb165a2c1c1b1414"
   },
   "outputs": [],
   "source": [
    "# Convert label to one hot vectors (ex : 2 -> [0,0,1,0,0,0,0,0,0,0])\n",
    "Y_train = to_categorical(Y_train, num_classes = 10)"
   ]
  },
  {
   "cell_type": "markdown",
   "metadata": {
    "_cell_guid": "32152fc3-a570-4d64-8a7d-6c689a4acd33",
    "_uuid": "d8abbbf31483b94e1b29d07c4c8253d1311648a7"
   },
   "source": [
    "## 2.6 Split training and valdiation set "
   ]
  },
  {
   "cell_type": "code",
   "execution_count": 9,
   "metadata": {
    "_uuid": "6dd248708c7f4f8954b7224b48e3223938c43495"
   },
   "outputs": [],
   "source": [
    "## 2.6 Split training and valdiation set \n",
    "# 훈련데이터와 테스트 데이터를 9:1 비율로 random_state로 나눔.\n",
    "\n",
    "X_train, X_val, Y_train, Y_val = train_test_split(X_train, Y_train, test_size = 0.1, random_state=2)"
   ]
  },
  {
   "cell_type": "markdown",
   "metadata": {
    "_cell_guid": "3c99964f-4500-4f1c-947d-c67e644e34db",
    "_uuid": "72ed54a305eebf80e8b8b0f7eabde1332a5a85a3"
   },
   "source": [
    "I choosed to split the train set in two parts : a small fraction (10%) became the validation set which the model is evaluated and the rest (90%) is used to train the model.\n",
    "\n",
    "Since we have 42 000 training images of balanced labels (see 2.1 Load data), a random split of the train set doesn't cause some labels to be over represented in the validation set. Be carefull with some unbalanced dataset a simple random split could cause inaccurate evaluation during the validation. \n",
    "\n",
    "To avoid that, you could use stratify = True option in train_test_split function (**Only for >=0.17 sklearn versions**)."
   ]
  },
  {
   "cell_type": "code",
   "execution_count": 10,
   "metadata": {
    "_uuid": "c7866d3f98ebe3a24e98fe5616aaa63261745500"
   },
   "outputs": [
    {
     "data": {
      "image/png": "[encoded data removed]",
      "text/plain": [
       "<Figure size 432x288 with 1 Axes>"
      ]
     },
     "metadata": {},
     "output_type": "display_data"
    }
   ],
   "source": [
    "# Draw an example of a data set to see\n",
    "g = plt.imshow(X_train[189][:,:,0])\n",
    "\n",
    "# 첫번째 훈련데이터를 matplotlib로 가져와서 확인 ( RGB중 R부분만 확인 [:,:,0])"
   ]
  },
  {
   "cell_type": "markdown",
   "metadata": {
    "_cell_guid": "d5265777-aeb3-449d-b171-d88cad74c0a4",
    "_uuid": "5fa18b37a9acd9e098bac1d12264b0dd4310fdd3"
   },
   "source": [
    "# 3. CNN\n",
    "## 3.1 Define the model"
   ]
  },
  {
   "cell_type": "markdown",
   "metadata": {},
   "source": [
    "I used the Keras Sequential API, where you have just to add one layer at a time, starting from the input.\n",
    "\n",
    "The first is the convolutional (Conv2D) layer. It is like a set of learnable filters. I choosed to set 32 filters for the two firsts conv2D layers and 64 filters for the two last ones. Each filter transforms a part of the image (defined by the kernel size) using the kernel filter. The kernel filter matrix is applied on the whole image. Filters can be seen as a transformation of the image.\n",
    "\n",
    "The CNN can isolate features that are useful everywhere from these transformed images (feature maps).\n",
    "\n",
    "The second important layer in CNN is the pooling (MaxPool2D) layer. This layer simply acts as a downsampling filter. It looks at the 2 neighboring pixels and picks the maximal value. These are used to reduce computational cost, and to some extent also reduce overfitting. We have to choose the pooling size (i.e the area size pooled each time) more the pooling dimension is high, more the downsampling is important. \n",
    "\n",
    "Combining convolutional and pooling layers, CNN are able to combine local features and learn more global features of the image.\n",
    "\n",
    "Dropout is a regularization method, where a proportion of nodes in the layer are randomly ignored (setting their wieghts to zero) for each training sample. This drops randomly a propotion of the network and forces the network to learn features in a distributed way. This technique also improves generalization and reduces the overfitting. \n",
    "\n",
    "'relu' is the rectifier (activation function max(0,x). The rectifier activation function is used to add non linearity to the network. \n",
    "\n",
    "The Flatten layer is use to convert the final feature maps into a one single 1D vector. This flattening step is needed so that you can make use of fully connected layers after some convolutional/maxpool layers. It combines all the found local features of the previous convolutional layers.\n",
    "\n",
    "In the end i used the features in two fully-connected (Dense) layers which is just artificial an neural networks (ANN) classifier. In the last layer(Dense(10,activation=\"softmax\")) the net outputs distribution of probability of each class."
   ]
  },
  {
   "cell_type": "code",
   "execution_count": 11,
   "metadata": {
    "_uuid": "6e2e5990ea804642d89167c422ba4c0c6de12391"
   },
   "outputs": [
    {
     "name": "stdout",
     "output_type": "stream",
     "text": [
      "Model: \"sequential_1\"\n",
      "_________________________________________________________________\n",
      "Layer (type)                 Output Shape              Param #   \n",
      "=================================================================\n",
      "conv2d_1 (Conv2D)            (None, 28, 28, 64)        1664      \n",
      "_________________________________________________________________\n",
      "batch_normalization_1 (Batch (None, 28, 28, 64)        256       \n",
      "_________________________________________________________________\n",
      "conv2d_2 (Conv2D)            (None, 28, 28, 64)        102464    \n",
      "_________________________________________________________________\n",
      "batch_normalization_2 (Batch (None, 28, 28, 64)        256       \n",
      "_________________________________________________________________\n",
      "max_pooling2d_1 (MaxPooling2 (None, 14, 14, 64)        0         \n",
      "_________________________________________________________________\n",
      "dropout_1 (Dropout)          (None, 14, 14, 64)        0         \n",
      "_________________________________________________________________\n",
      "conv2d_3 (Conv2D)            (None, 14, 14, 64)        36928     \n",
      "_________________________________________________________________\n",
      "batch_normalization_3 (Batch (None, 14, 14, 64)        256       \n",
      "_________________________________________________________________\n",
      "conv2d_4 (Conv2D)            (None, 14, 14, 64)        36928     \n",
      "_________________________________________________________________\n",
      "batch_normalization_4 (Batch (None, 14, 14, 64)        256       \n",
      "_________________________________________________________________\n",
      "max_pooling2d_2 (MaxPooling2 (None, 7, 7, 64)          0         \n",
      "_________________________________________________________________\n",
      "dropout_2 (Dropout)          (None, 7, 7, 64)          0         \n",
      "_________________________________________________________________\n",
      "conv2d_5 (Conv2D)            (None, 7, 7, 64)          36928     \n",
      "_________________________________________________________________\n",
      "batch_normalization_5 (Batch (None, 7, 7, 64)          256       \n",
      "_________________________________________________________________\n",
      "dropout_3 (Dropout)          (None, 7, 7, 64)          0         \n",
      "_________________________________________________________________\n",
      "flatten_1 (Flatten)          (None, 3136)              0         \n",
      "_________________________________________________________________\n",
      "dense_1 (Dense)              (None, 256)               803072    \n",
      "_________________________________________________________________\n",
      "batch_normalization_6 (Batch (None, 256)               1024      \n",
      "_________________________________________________________________\n",
      "dropout_4 (Dropout)          (None, 256)               0         \n",
      "_________________________________________________________________\n",
      "dense_2 (Dense)              (None, 10)                2570      \n",
      "=================================================================\n",
      "Total params: 1,022,858\n",
      "Trainable params: 1,021,706\n",
      "Non-trainable params: 1,152\n",
      "_________________________________________________________________\n"
     ]
    }
   ],
   "source": [
    "#Creating CNN model\n",
    "\"\"\"\n",
    "  [[Conv2D->relu]*2 -> BatchNormalization -> MaxPool2D -> Dropout]*2 -> \n",
    "  [Conv2D->relu]*2 -> BatchNormalization -> Dropout -> \n",
    "  Flatten -> Dense -> BatchNormalization -> Dropout -> Out\n",
    "\"\"\"\n",
    "model = Sequential()\n",
    "\n",
    "model.add(Conv2D(filters = 64, kernel_size = (5,5),padding = 'Same', activation ='relu', input_shape = (28,28,1)))\n",
    "model.add(BatchNormalization())\n",
    "\n",
    "model.add(Conv2D(filters = 64, kernel_size = (5,5),padding = 'Same', activation ='relu'))\n",
    "model.add(BatchNormalization())\n",
    "\n",
    "model.add(MaxPool2D(pool_size=(2,2)))\n",
    "model.add(Dropout(0.25))\n",
    "\n",
    "model.add(Conv2D(filters = 64, kernel_size = (3,3),padding = 'Same', activation ='relu'))\n",
    "model.add(BatchNormalization())\n",
    "\n",
    "model.add(Conv2D(filters = 64, kernel_size = (3,3),padding = 'Same', activation ='relu'))\n",
    "model.add(BatchNormalization())\n",
    "model.add(MaxPool2D(pool_size=(2,2), strides=(2,2)))\n",
    "model.add(Dropout(0.25))\n",
    "\n",
    "model.add(Conv2D(filters = 64, kernel_size = (3,3), padding = 'Same',  activation ='relu'))\n",
    "model.add(BatchNormalization())\n",
    "model.add(Dropout(0.25))\n",
    "\n",
    "model.add(Flatten())\n",
    "model.add(Dense(256, activation = \"relu\"))\n",
    "model.add(BatchNormalization())\n",
    "model.add(Dropout(0.25))\n",
    "\n",
    "model.add(Dense(10, activation = \"softmax\"))\n",
    "model.summary()"
   ]
  },
  {
   "cell_type": "markdown",
   "metadata": {
    "_cell_guid": "0e26b6a3-ef9d-4ae5-9d79-d5e4b073251a",
    "_uuid": "7065512cf892ba49f0c06e239e3a20ff13667ef2"
   },
   "source": [
    "## 3.2 Set the optimizer and annealer\n",
    "\n",
    "Once our layers are added to the model, we need to set up a score function, a loss function and an optimisation algorithm.\n",
    "\n",
    "We define the loss function to measure how poorly our model performs on images with known labels. It is the error rate between the oberved labels and the predicted ones. We use a specific form for categorical classifications (>2 classes) called the \"categorical_crossentropy\".\n",
    "\n",
    "The most important function is the optimizer. This function will iteratively improve parameters (filters kernel values, weights and bias of neurons ...) in order to minimise the loss. \n",
    "\n",
    "I choosed RMSprop (with default values), it is a very effective optimizer. The RMSProp update adjusts the Adagrad method in a very simple way in an attempt to reduce its aggressive, monotonically decreasing learning rate.\n",
    "We could also have used Stochastic Gradient Descent ('sgd') optimizer, but it is slower than RMSprop.\n",
    "\n",
    "The metric function \"accuracy\" is used is to evaluate the performance our model.\n",
    "This metric function is similar to the loss function, except that the results from the metric evaluation are not used when training the model (only for evaluation)."
   ]
  },
  {
   "cell_type": "code",
   "execution_count": 13,
   "metadata": {
    "_uuid": "037ca9731e61537769531376e3c02ab5ce6a8c18"
   },
   "outputs": [],
   "source": [
    "# Define the optimizer ( 현재 RMSprop 사용 중)\n",
    "optimizer = RMSprop(lr=0.001, rho=0.9, epsilon=1e-08, decay=0.0)"
   ]
  },
  {
   "cell_type": "code",
   "execution_count": 14,
   "metadata": {
    "_uuid": "807ec021c1ab973a0506d14caf66b5d8777490a7"
   },
   "outputs": [],
   "source": [
    "# Compile model\n",
    "model.compile(optimizer = optimizer , loss = \"categorical_crossentropy\", metrics=[\"accuracy\"])\n",
    "\n",
    "# 분류문제이기 때문에 오차함수로 loss = \"categorical_crossentropy\" 를 사용 중\n",
    "# 정확도로 평가 함 metrics=[\"accuracy\"]"
   ]
  },
  {
   "cell_type": "code",
   "execution_count": 15,
   "metadata": {
    "_uuid": "7bab2f865ea70bcccb6ec181369db75ddcf13110"
   },
   "outputs": [],
   "source": [
    "# Audjusting learning rate\n",
    "learning_rate_reduction = ReduceLROnPlateau(monitor='val_acc', \n",
    "                                            patience=3, \n",
    "                                            verbose=1, \n",
    "                                            factor=0.5, \n",
    "                                            min_lr=0.00001)"
   ]
  },
  {
   "cell_type": "code",
   "execution_count": 16,
   "metadata": {
    "_uuid": "cc78b198d12ff5cd785f200fbb11f154dc7dfafe"
   },
   "outputs": [],
   "source": [
    "# Adjusting epochs and batch_size\n",
    "# 현재 50에폭 128 Batch_size\n",
    "epochs = 50\n",
    "batch_size = 128"
   ]
  },
  {
   "cell_type": "markdown",
   "metadata": {
    "_cell_guid": "241a0f4f-13f5-4b13-be1e-4e3e4a714c06",
    "_uuid": "f24df64b223e0177c94025b6767ab19b722c5386"
   },
   "source": [
    "## 3.3 Data augmentation (데이터 증가)"
   ]
  },
  {
   "cell_type": "markdown",
   "metadata": {
    "_cell_guid": "e2d41e30-0724-40fb-a901-750e514ba9f9",
    "_uuid": "9e498b91419439f0fa791e595f202d9a0d56ad6b"
   },
   "source": [
    "In order to avoid overfitting problem, we need to expand artificially our handwritten digit dataset. We can make your existing dataset even larger. The idea is to alter the training data with small transformations to reproduce the variations occuring when someone is writing a digit.\n",
    "\n",
    "For example, the number is not centered \n",
    "The scale is not the same (some who write with big/small numbers)\n",
    "The image is rotated...\n",
    "\n",
    "Approaches that alter the training data in ways that change the array representation while keeping the label the same are known as data augmentation techniques. Some popular augmentations people use are grayscales(흑백출력), horizontal flips(상하반전), vertical flips(좌우 반전), random crops(랜덤으로 자르기), color jitters(컬러 변조), translations, rotations(회전), and much more. \n",
    "\n",
    "By applying just a couple of these transformations to our training data, we can easily double or triple the number of training examples and create a very robust model.\n",
    "\n",
    "The improvement is important : \n",
    "   - Without data augmentation i obtained an accuracy of 98.114%\n",
    "   - With data augmentation i achieved 99.67% of accuracy\n",
    "\n",
    "오버피팅 문제를 막기위해서 ImageDataGenerator를 이용하여 임의의 숫자 image 데이터들을 만들 것이다.   \n",
    "이 과정을 통해서 98.114%에서 99.67%로 정확도가 상승하였다.  "
   ]
  },
  {
   "cell_type": "code",
   "execution_count": null,
   "metadata": {},
   "outputs": [],
   "source": [
    "# Without data augmentation i obtained an accuracy of 0.98114\n",
    "#history = model.fit(X_train, Y_train, batch_size = batch_size, epochs = epochs, \n",
    "#          validation_data = (X_val, Y_val), verbose = 2)"
   ]
  },
  {
   "cell_type": "code",
   "execution_count": 17,
   "metadata": {
    "_uuid": "931940a6c0eb999aa2eef607ec5688989891c514"
   },
   "outputs": [],
   "source": [
    "# Data Augmentation \n",
    "datagen = ImageDataGenerator(\n",
    "        featurewise_center=False, # set input mean to 0 over the dataset\n",
    "        samplewise_center=False,  # set each sample mean to 0\n",
    "        featurewise_std_normalization=False,  # divide inputs by std of the dataset\n",
    "        samplewise_std_normalization=False,  # divide each input by its std\n",
    "        zca_whitening=False,  # apply ZCA whitening\n",
    "        rotation_range=10,  # randomly rotate images in the range (degrees, 0 to 180)\n",
    "        zoom_range = 0.1, # Randomly zoom image \n",
    "        width_shift_range=0.1,  # randomly shift images horizontally (fraction of total width)\n",
    "        height_shift_range=0.1,  # randomly shift images vertically (fraction of total height)\n",
    "        horizontal_flip=False,  # randomly flip images\n",
    "        vertical_flip=False)  # randomly flip images\n",
    "datagen.fit(X_train)"
   ]
  },
  {
   "cell_type": "code",
   "execution_count": 19,
   "metadata": {
    "_uuid": "8d4946afedc9e577f07ea023624a336e336470c5"
   },
   "outputs": [
    {
     "name": "stdout",
     "output_type": "stream",
     "text": [
      "Epoch 1/50\n",
      "787/787 [==============================] - 20s 25ms/step - loss: 0.0490 - accuracy: 0.9851 - val_loss: 0.0395 - val_accuracy: 0.9884\n",
      "Epoch 2/50\n",
      "  7/787 [..............................] - ETA: 19s - loss: 0.0329 - accuracy: 0.9888"
     ]
    },
    {
     "name": "stderr",
     "output_type": "stream",
     "text": [
      "C:\\anaconda3\\envs\\tf2.0-gpu\\lib\\site-packages\\keras\\callbacks\\callbacks.py:1042: RuntimeWarning: Reduce LR on plateau conditioned on metric `val_acc` which is not available. Available metrics are: val_loss,val_accuracy,loss,accuracy,lr\n",
      "  (self.monitor, ','.join(list(logs.keys()))), RuntimeWarning\n"
     ]
    },
    {
     "name": "stdout",
     "output_type": "stream",
     "text": [
      "787/787 [==============================] - 20s 26ms/step - loss: 0.0389 - accuracy: 0.9882 - val_loss: 0.0237 - val_accuracy: 0.9929\n",
      "Epoch 3/50\n",
      "787/787 [==============================] - 20s 25ms/step - loss: 0.0322 - accuracy: 0.9904 - val_loss: 0.0218 - val_accuracy: 0.9941\n",
      "Epoch 4/50\n",
      "787/787 [==============================] - 20s 26ms/step - loss: 0.0293 - accuracy: 0.9911 - val_loss: 0.0195 - val_accuracy: 0.9946\n",
      "Epoch 5/50\n",
      "787/787 [==============================] - 20s 25ms/step - loss: 0.0266 - accuracy: 0.9921 - val_loss: 0.0173 - val_accuracy: 0.9952\n",
      "Epoch 6/50\n",
      "787/787 [==============================] - 20s 25ms/step - loss: 0.0250 - accuracy: 0.9926 - val_loss: 0.0165 - val_accuracy: 0.9942\n",
      "Epoch 7/50\n",
      "787/787 [==============================] - 20s 25ms/step - loss: 0.0229 - accuracy: 0.9932 - val_loss: 0.0149 - val_accuracy: 0.9955\n",
      "Epoch 8/50\n",
      "787/787 [==============================] - 20s 25ms/step - loss: 0.0226 - accuracy: 0.9930 - val_loss: 0.0139 - val_accuracy: 0.9961\n",
      "Epoch 9/50\n",
      "787/787 [==============================] - 20s 26ms/step - loss: 0.0207 - accuracy: 0.9936 - val_loss: 0.0108 - val_accuracy: 0.9971\n",
      "Epoch 10/50\n",
      "787/787 [==============================] - 21s 27ms/step - loss: 0.0205 - accuracy: 0.9938 - val_loss: 0.0093 - val_accuracy: 0.9971\n",
      "Epoch 11/50\n",
      "787/787 [==============================] - 21s 27ms/step - loss: 0.0189 - accuracy: 0.9941 - val_loss: 0.0190 - val_accuracy: 0.9947\n",
      "Epoch 12/50\n",
      "787/787 [==============================] - 21s 26ms/step - loss: 0.0187 - accuracy: 0.9944 - val_loss: 0.0111 - val_accuracy: 0.9965\n",
      "Epoch 13/50\n",
      "787/787 [==============================] - 20s 25ms/step - loss: 0.0176 - accuracy: 0.9945 - val_loss: 0.0109 - val_accuracy: 0.9971\n",
      "Epoch 14/50\n",
      "787/787 [==============================] - 20s 25ms/step - loss: 0.0167 - accuracy: 0.9949 - val_loss: 0.0101 - val_accuracy: 0.9969\n",
      "Epoch 15/50\n",
      "787/787 [==============================] - 20s 25ms/step - loss: 0.0157 - accuracy: 0.9954 - val_loss: 0.0115 - val_accuracy: 0.9967\n",
      "Epoch 16/50\n",
      "787/787 [==============================] - 20s 26ms/step - loss: 0.0163 - accuracy: 0.9951 - val_loss: 0.0091 - val_accuracy: 0.9979\n",
      "Epoch 17/50\n",
      "787/787 [==============================] - 20s 25ms/step - loss: 0.0161 - accuracy: 0.9950 - val_loss: 0.0100 - val_accuracy: 0.9972\n",
      "Epoch 18/50\n",
      "787/787 [==============================] - 20s 26ms/step - loss: 0.0157 - accuracy: 0.9953 - val_loss: 0.0101 - val_accuracy: 0.9974\n",
      "Epoch 19/50\n",
      "787/787 [==============================] - 20s 25ms/step - loss: 0.0154 - accuracy: 0.9953 - val_loss: 0.0107 - val_accuracy: 0.9972\n",
      "Epoch 20/50\n",
      "787/787 [==============================] - 20s 25ms/step - loss: 0.0153 - accuracy: 0.9954 - val_loss: 0.0103 - val_accuracy: 0.9972\n",
      "Epoch 21/50\n",
      "787/787 [==============================] - 20s 26ms/step - loss: 0.0145 - accuracy: 0.9957 - val_loss: 0.0118 - val_accuracy: 0.9973\n",
      "Epoch 22/50\n",
      "787/787 [==============================] - 20s 25ms/step - loss: 0.0134 - accuracy: 0.9960 - val_loss: 0.0106 - val_accuracy: 0.9965\n",
      "Epoch 23/50\n",
      "787/787 [==============================] - 20s 26ms/step - loss: 0.0136 - accuracy: 0.9961 - val_loss: 0.0116 - val_accuracy: 0.9969\n",
      "Epoch 24/50\n",
      "787/787 [==============================] - 20s 26ms/step - loss: 0.0124 - accuracy: 0.9962 - val_loss: 0.0114 - val_accuracy: 0.9974\n",
      "Epoch 25/50\n",
      "787/787 [==============================] - 20s 26ms/step - loss: 0.0134 - accuracy: 0.9962 - val_loss: 0.0101 - val_accuracy: 0.9977\n",
      "Epoch 26/50\n",
      "787/787 [==============================] - 20s 25ms/step - loss: 0.0132 - accuracy: 0.9962 - val_loss: 0.0074 - val_accuracy: 0.9978\n",
      "Epoch 27/50\n",
      "787/787 [==============================] - 20s 25ms/step - loss: 0.0124 - accuracy: 0.9961 - val_loss: 0.0084 - val_accuracy: 0.9971\n",
      "Epoch 28/50\n",
      "787/787 [==============================] - 20s 26ms/step - loss: 0.0121 - accuracy: 0.9964 - val_loss: 0.0127 - val_accuracy: 0.9973\n",
      "Epoch 29/50\n",
      "787/787 [==============================] - 20s 26ms/step - loss: 0.0131 - accuracy: 0.9961 - val_loss: 0.0087 - val_accuracy: 0.9971\n",
      "Epoch 30/50\n",
      "787/787 [==============================] - 21s 26ms/step - loss: 0.0117 - accuracy: 0.9965 - val_loss: 0.0094 - val_accuracy: 0.9978\n",
      "Epoch 31/50\n",
      "787/787 [==============================] - 20s 26ms/step - loss: 0.0119 - accuracy: 0.9962 - val_loss: 0.0074 - val_accuracy: 0.9979\n",
      "Epoch 32/50\n",
      "787/787 [==============================] - 20s 26ms/step - loss: 0.0115 - accuracy: 0.9967 - val_loss: 0.0073 - val_accuracy: 0.9981\n",
      "Epoch 33/50\n",
      "787/787 [==============================] - 20s 25ms/step - loss: 0.0126 - accuracy: 0.9961 - val_loss: 0.0130 - val_accuracy: 0.9965\n",
      "Epoch 34/50\n",
      "787/787 [==============================] - 20s 25ms/step - loss: 0.0117 - accuracy: 0.9966 - val_loss: 0.0095 - val_accuracy: 0.9979\n",
      "Epoch 35/50\n",
      "787/787 [==============================] - 20s 25ms/step - loss: 0.0108 - accuracy: 0.9969 - val_loss: 0.0106 - val_accuracy: 0.9973\n",
      "Epoch 36/50\n",
      "787/787 [==============================] - 20s 25ms/step - loss: 0.0111 - accuracy: 0.9967 - val_loss: 0.0114 - val_accuracy: 0.9971\n",
      "Epoch 37/50\n",
      "787/787 [==============================] - 19s 25ms/step - loss: 0.0112 - accuracy: 0.9966 - val_loss: 0.0089 - val_accuracy: 0.9982\n",
      "Epoch 38/50\n",
      "787/787 [==============================] - 20s 25ms/step - loss: 0.0108 - accuracy: 0.9967 - val_loss: 0.0091 - val_accuracy: 0.9974\n",
      "Epoch 39/50\n",
      "787/787 [==============================] - 20s 26ms/step - loss: 0.0107 - accuracy: 0.9968 - val_loss: 0.0071 - val_accuracy: 0.9983\n",
      "Epoch 40/50\n",
      "787/787 [==============================] - 20s 26ms/step - loss: 0.0102 - accuracy: 0.9969 - val_loss: 0.0078 - val_accuracy: 0.9977\n",
      "Epoch 41/50\n",
      "787/787 [==============================] - 19s 25ms/step - loss: 0.0091 - accuracy: 0.9971 - val_loss: 0.0115 - val_accuracy: 0.9976\n",
      "Epoch 42/50\n",
      "787/787 [==============================] - 19s 25ms/step - loss: 0.0103 - accuracy: 0.9968 - val_loss: 0.0079 - val_accuracy: 0.9976\n",
      "Epoch 43/50\n",
      "787/787 [==============================] - 20s 25ms/step - loss: 0.0107 - accuracy: 0.9970 - val_loss: 0.0090 - val_accuracy: 0.9982\n",
      "Epoch 44/50\n",
      "787/787 [==============================] - 20s 25ms/step - loss: 0.0102 - accuracy: 0.9970 - val_loss: 0.0099 - val_accuracy: 0.9973\n",
      "Epoch 45/50\n",
      "787/787 [==============================] - 20s 26ms/step - loss: 0.0096 - accuracy: 0.9971 - val_loss: 0.0102 - val_accuracy: 0.9979\n",
      "Epoch 46/50\n",
      "787/787 [==============================] - 19s 25ms/step - loss: 0.0093 - accuracy: 0.9971 - val_loss: 0.0081 - val_accuracy: 0.9980\n",
      "Epoch 47/50\n",
      "787/787 [==============================] - 20s 25ms/step - loss: 0.0085 - accuracy: 0.9974 - val_loss: 0.0068 - val_accuracy: 0.9983\n",
      "Epoch 48/50\n",
      "787/787 [==============================] - 20s 26ms/step - loss: 0.0102 - accuracy: 0.9970 - val_loss: 0.0100 - val_accuracy: 0.9984\n",
      "Epoch 49/50\n",
      "787/787 [==============================] - 21s 27ms/step - loss: 0.0093 - accuracy: 0.9971 - val_loss: 0.0069 - val_accuracy: 0.9977\n",
      "Epoch 50/50\n",
      "787/787 [==============================] - 20s 25ms/step - loss: 0.0086 - accuracy: 0.9973 - val_loss: 0.0083 - val_accuracy: 0.9979\n"
     ]
    }
   ],
   "source": [
    "#Prediction model\n",
    "history = model.fit_generator(datagen.flow(X_train,Y_train, batch_size=batch_size),\n",
    "                              epochs = epochs, validation_data = (X_val,Y_val),\n",
    "                              verbose = 1, steps_per_epoch=X_train.shape[0] // batch_size\n",
    "                              , callbacks=[learning_rate_reduction])"
   ]
  },
  {
   "cell_type": "markdown",
   "metadata": {
    "_cell_guid": "e758621d-b27b-40ff-a93f-bebd2e0e5243",
    "_uuid": "0a1834f2a9f2db15dcaba4a84004b9627d714469"
   },
   "source": [
    "# 4. Evaluate the model\n",
    "## 4.1 Training and validation curves"
   ]
  },
  {
   "cell_type": "code",
   "execution_count": 21,
   "metadata": {
    "_uuid": "3e03c94fda973c4b8c91b96b019356a4d62ee999"
   },
   "outputs": [
    {
     "data": {
      "image/png": "[encoded data removed]",
      "text/plain": [
       "<Figure size 432x288 with 2 Axes>"
      ]
     },
     "metadata": {},
     "output_type": "display_data"
    }
   ],
   "source": [
    "# Draw the loss and accuracy curves of the training set and the validation set.\n",
    "# Can judge whether it is under-fitting or over-fitting\n",
    "fig, ax = plt.subplots(2,1)\n",
    "ax[0].plot(history.history['loss'], color='b', label=\"Training loss\")\n",
    "ax[0].plot(history.history['val_loss'], color='r', label=\"validation loss\",axes =ax[0])\n",
    "legend = ax[0].legend(loc='best', shadow=True)\n",
    "\n",
    "ax[1].plot(history.history['accuracy'], color='b', label=\"Training accuracy\")\n",
    "ax[1].plot(history.history['val_accuracy'], color='r',label=\"Validation accuracy\")\n",
    "legend = ax[1].legend(loc='best', shadow=True)"
   ]
  },
  {
   "cell_type": "markdown",
   "metadata": {
    "_cell_guid": "69df90d7-f2fd-497d-a0b2-57c497a3e645",
    "_uuid": "ba77212f82b781b0e5a4e494897b18c31c5e30a3"
   },
   "source": [
    "The code below is for plotting loss and accuracy curves for training and validation. Since, i set epochs = 2 on this notebook .\n",
    "I'll show you the training and validation curves i obtained from the model i build with 30 epochs (2h30)"
   ]
  },
  {
   "cell_type": "markdown",
   "metadata": {
    "_cell_guid": "bacff684-79bb-4ede-83c1-ccb7cf92df77",
    "_uuid": "9f2920cbbfb6f1f566fac4afdd4030c75ee5bf66"
   },
   "source": [
    "<img src=\"http://img1.imagilive.com/0717/mnist_099671_train_val_loss_acc.png\"></img>\n",
    "\n",
    "The model reaches almost 99% (98.7+%) accuracy on the validation dataset after 2 epochs. The validation accuracy is greater than the training accuracy almost evry time during the training. That means that our model dosen't not overfit the training set.\n",
    "\n",
    "Our model is very well trained  !!! \n",
    "\n",
    "<img src=\"http://img1.imagilive.com/0717/accuracies1de.jpg\"/>"
   ]
  },
  {
   "cell_type": "markdown",
   "metadata": {
    "_cell_guid": "de1c65bd-4a88-4351-9f4b-562e72e7e0fd",
    "_uuid": "63698d7d51381b33892ce164b0f21930abb3e937"
   },
   "source": [
    "## 4.2 Confusion matrix"
   ]
  },
  {
   "cell_type": "markdown",
   "metadata": {},
   "source": [
    "Confusion matrix can be very helpfull to see your model drawbacks.\n",
    "\n",
    "I plot the confusion matrix of the validation results."
   ]
  },
  {
   "cell_type": "code",
   "execution_count": 23,
   "metadata": {
    "_uuid": "c690e863d42af0c72a31dab0aa008c5e85973643"
   },
   "outputs": [
    {
     "data": {
      "image/png": "[encoded data removed]",
      "text/plain": [
       "<Figure size 432x288 with 2 Axes>"
      ]
     },
     "metadata": {},
     "output_type": "display_data"
    }
   ],
   "source": [
    "# Draw a confusion matrix that can be used to observe high false positives\n",
    "\n",
    "def plot_confusion_matrix(cm, classes,\n",
    "                          normalize=False,\n",
    "                          title='Confusion matrix',\n",
    "                          cmap=plt.cm.Blues):\n",
    "    \"\"\"\n",
    "    This function prints and plots the confusion matrix.\n",
    "    Normalization can be applied by setting `normalize=True`.\n",
    "    \"\"\"\n",
    "    plt.imshow(cm, interpolation='nearest', cmap=cmap)\n",
    "    plt.title(title)\n",
    "    plt.colorbar()\n",
    "    tick_marks = np.arange(len(classes))\n",
    "    plt.xticks(tick_marks, classes, rotation=45)\n",
    "    plt.yticks(tick_marks, classes)\n",
    "\n",
    "    if normalize:\n",
    "        cm = cm.astype('float') / cm.sum(axis=1)[:, np.newaxis]\n",
    "\n",
    "    thresh = cm.max() / 2.\n",
    "    for i, j in itertools.product(range(cm.shape[0]), range(cm.shape[1])):\n",
    "        plt.text(j, i, cm[i, j],\n",
    "                 horizontalalignment=\"center\",\n",
    "                 color=\"white\" if cm[i, j] > thresh else \"black\")\n",
    "\n",
    "    plt.tight_layout()\n",
    "    plt.ylabel('True label')\n",
    "    plt.xlabel('Predicted label')\n",
    "\n",
    "# Predict the values from the validation dataset\n",
    "Y_pred = model.predict(X_val)\n",
    "# Convert predictions classes to one hot vectors \n",
    "Y_pred_classes = np.argmax(Y_pred,axis = 1) \n",
    "# Convert validation observations to one hot vectors\n",
    "Y_true = np.argmax(Y_val,axis = 1) \n",
    "# compute the confusion matrix\n",
    "confusion_mtx = confusion_matrix(Y_true, Y_pred_classes) \n",
    "# plot the confusion matrix\n",
    "plot_confusion_matrix(confusion_mtx, classes = range(10)) "
   ]
  },
  {
   "cell_type": "markdown",
   "metadata": {
    "_cell_guid": "1b8a5cdc-9122-4e31-b9fa-0f6b57d33fc8",
    "_uuid": "ecb928433299b163ecc1f6c4e66d4ddcf38fe898"
   },
   "source": [
    "Here we can see that our CNN performs very well on all digits with few errors considering the size of the validation set (4 200 images).\n",
    "\n",
    "However, it seems that our CNN has some little troubles with the 4 digits, hey are misclassified as 9. Sometime it is very difficult to catch the difference between 4 and 9 when curves are smooth.\n",
    "\n",
    "4와 9의 차이를 비교적 잘 못잡아내는것 같다.    \n",
    "특히, 4와 9사이의 커브(굴곡)이 부드러우면 차이를 잘 못잡아내는 것 것 같다.  "
   ]
  },
  {
   "cell_type": "markdown",
   "metadata": {
    "_cell_guid": "ef54d686-6f79-4d96-a5a0-a64657bd742e",
    "_execution_state": "idle",
    "_uuid": "afd59cae1115188b77abd3471e5e89790cef80a0"
   },
   "source": [
    "Let's investigate for errors. \n",
    "\n",
    "I want to see the most important errors . For that purpose i need to get the difference between the probabilities of real value and the predicted ones in the results."
   ]
  },
  {
   "cell_type": "code",
   "execution_count": 24,
   "metadata": {
    "_uuid": "3cf2a85c5fc426258b70fc09c9c1c6e5c55f90cb"
   },
   "outputs": [
    {
     "data": {
      "image/png": "[encoded data removed]",
      "text/plain": [
       "<Figure size 432x288 with 6 Axes>"
      ]
     },
     "metadata": {},
     "output_type": "display_data"
    }
   ],
   "source": [
    "# Show some wrong results, and the difference between the predicted label and the real labe\n",
    "errors = (Y_pred_classes - Y_true != 0)\n",
    "\n",
    "Y_pred_classes_errors = Y_pred_classes[errors]\n",
    "Y_pred_errors = Y_pred[errors]\n",
    "Y_true_errors = Y_true[errors]\n",
    "X_val_errors = X_val[errors]\n",
    "\n",
    "def display_errors(errors_index,img_errors,pred_errors, obs_errors):\n",
    "    \"\"\" This function shows 6 images with their predicted and real labels\"\"\"\n",
    "    n = 0\n",
    "    nrows = 2\n",
    "    ncols = 3\n",
    "    fig, ax = plt.subplots(nrows,ncols,sharex=True,sharey=True)\n",
    "    for row in range(nrows):\n",
    "        for col in range(ncols):\n",
    "            error = errors_index[n]\n",
    "            ax[row,col].imshow((img_errors[error]).reshape((28,28)))\n",
    "            ax[row,col].set_title(\"Predicted label :{}\\nTrue label :{}\".format(pred_errors[error],obs_errors[error]))\n",
    "            n += 1\n",
    "\n",
    "# Probabilities of the wrong predicted numbers\n",
    "Y_pred_errors_prob = np.max(Y_pred_errors,axis = 1)\n",
    "\n",
    "# Predicted probabilities of the true values in the error set\n",
    "true_prob_errors = np.diagonal(np.take(Y_pred_errors, Y_true_errors, axis=1))\n",
    "\n",
    "# Difference between the probability of the predicted label and the true label\n",
    "delta_pred_true_errors = Y_pred_errors_prob - true_prob_errors\n",
    "\n",
    "# Sorted list of the delta prob errors\n",
    "sorted_dela_errors = np.argsort(delta_pred_true_errors)\n",
    "\n",
    "# Top 6 errors \n",
    "most_important_errors = sorted_dela_errors[-6:]\n",
    "\n",
    "# Show the top 6 errors\n",
    "display_errors(most_important_errors, X_val_errors, Y_pred_classes_errors, Y_true_errors)"
   ]
  },
  {
   "cell_type": "markdown",
   "metadata": {
    "_cell_guid": "d21c4caf-e699-4647-8ef4-e60e868607ae",
    "_execution_state": "idle",
    "_uuid": "afc408bd5545a6a2b2d4e04989890546263cb642"
   },
   "source": [
    "The most important errors are also the most intrigous. \n",
    "\n",
    "For those six case, the model is not ridiculous. Some of these errors can also be made by humans, especially for one the 9 that is very close to a 4. The last 9 is also very misleading, it seems for me that is a 0."
   ]
  },
  {
   "cell_type": "code",
   "execution_count": 25,
   "metadata": {
    "_uuid": "86708a448631dade2fdf0a7584a38c4c22260e6f"
   },
   "outputs": [],
   "source": [
    "# Make predictions about test sets\n",
    "results = model.predict(test)\n",
    "\n",
    "# Convert one-hot vector to number\n",
    "results = np.argmax(results,axis = 1)\n",
    "\n",
    "results = pd.Series(results,name=\"Label\")"
   ]
  },
  {
   "cell_type": "markdown",
   "metadata": {},
   "source": [
    "### Save the final result in cnn_mnist_submission.csv"
   ]
  },
  {
   "cell_type": "code",
   "execution_count": 26,
   "metadata": {
    "_uuid": "b5ed81e948596d3135ffef4a4210c20421cbf4cc"
   },
   "outputs": [],
   "source": [
    "# Save the final result in cnn_mnist_submission.csv\n",
    "submission = pd.concat([pd.Series(range(1,28001),name = \"ImageId\"),results],axis = 1)\n",
    "\n",
    "submission.to_csv(\"E:\\kaggle\\digit-recognizer\\submission\\\\cnn_mnist_submission_99.999.csv\",index=False)"
   ]
  }
 ],
 "metadata": {
  "kernelspec": {
   "display_name": "tf-gpu",
   "language": "python",
   "name": "tf2.0-gpu"
  },
  "language_info": {
   "codemirror_mode": {
    "name": "ipython",
    "version": 3
   },
   "file_extension": ".py",
   "mimetype": "text/x-python",
   "name": "python",
   "nbconvert_exporter": "python",
   "pygments_lexer": "ipython3",
   "version": "3.7.0"
  }
 },
 "nbformat": 4,
 "nbformat_minor": 1
}
